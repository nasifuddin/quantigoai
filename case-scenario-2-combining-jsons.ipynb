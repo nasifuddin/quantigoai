{
 "cells": [
  {
   "cell_type": "code",
   "execution_count": 1,
   "id": "44647887",
   "metadata": {
    "_cell_guid": "aa5e1a14-eacf-40aa-b653-5597a964eb3b",
    "_uuid": "92c527f0-27b7-4681-b20f-807ada3058c0",
    "collapsed": false,
    "execution": {
     "iopub.execute_input": "2023-06-07T14:44:59.255208Z",
     "iopub.status.busy": "2023-06-07T14:44:59.254791Z",
     "iopub.status.idle": "2023-06-07T14:44:59.277888Z",
     "shell.execute_reply": "2023-06-07T14:44:59.276814Z"
    },
    "jupyter": {
     "outputs_hidden": false
    },
    "papermill": {
     "duration": 0.030661,
     "end_time": "2023-06-07T14:44:59.279966",
     "exception": false,
     "start_time": "2023-06-07T14:44:59.249305",
     "status": "completed"
    },
    "tags": []
   },
   "outputs": [
    {
     "data": {
      "text/plain": [
       "['/kaggle/input/test-jsons/pos_10492.png.json',\n",
       " '/kaggle/input/test-jsons/pos_10010.png.json',\n",
       " '/kaggle/input/test-jsons/pos_0.png.json']"
      ]
     },
     "execution_count": 1,
     "metadata": {},
     "output_type": "execute_result"
    }
   ],
   "source": [
    "import numpy as np # linear algebra\n",
    "import pandas as pd # data processing, CSV file I/O (e.g. pd.read_csv)\n",
    "import os\n",
    "import json\n",
    "\n",
    "paths = []\n",
    "\n",
    "for dirname, _, filenames in os.walk('/kaggle/input'):\n",
    "    for filename in filenames:\n",
    "        paths.append(os.path.join(dirname, filename))\n",
    "\n",
    "paths"
   ]
  },
  {
   "cell_type": "code",
   "execution_count": 2,
   "id": "a2b9af56",
   "metadata": {
    "execution": {
     "iopub.execute_input": "2023-06-07T14:44:59.287888Z",
     "iopub.status.busy": "2023-06-07T14:44:59.287058Z",
     "iopub.status.idle": "2023-06-07T14:44:59.300737Z",
     "shell.execute_reply": "2023-06-07T14:44:59.299876Z"
    },
    "papermill": {
     "duration": 0.019707,
     "end_time": "2023-06-07T14:44:59.302924",
     "exception": false,
     "start_time": "2023-06-07T14:44:59.283217",
     "status": "completed"
    },
    "tags": []
   },
   "outputs": [],
   "source": [
    "combined_json=[]\n",
    "\n",
    "for x in paths:\n",
    "    with open(x, 'r') as j:\n",
    "        combined_json.append(json.load(j))\n",
    "        \n",
    "with open('combined.json', 'w') as d:\n",
    "        json.dump(combined_json, d, indent=4)"
   ]
  },
  {
   "cell_type": "code",
   "execution_count": 3,
   "id": "9f06aa13",
   "metadata": {
    "execution": {
     "iopub.execute_input": "2023-06-07T14:44:59.310110Z",
     "iopub.status.busy": "2023-06-07T14:44:59.309807Z",
     "iopub.status.idle": "2023-06-07T14:44:59.314775Z",
     "shell.execute_reply": "2023-06-07T14:44:59.313806Z"
    },
    "papermill": {
     "duration": 0.010824,
     "end_time": "2023-06-07T14:44:59.316741",
     "exception": false,
     "start_time": "2023-06-07T14:44:59.305917",
     "status": "completed"
    },
    "tags": []
   },
   "outputs": [],
   "source": [
    "for x in combined_json:\n",
    "    for y in x['objects']:\n",
    "        y['classTitle'] = y['classTitle'].replace(\"Vehicle\",\"car\")\n",
    "        y['classTitle'] = y['classTitle'].replace(\"License Plate\",\"number\")\n",
    "        \n",
    "    "
   ]
  },
  {
   "cell_type": "code",
   "execution_count": 4,
   "id": "2218ed72",
   "metadata": {
    "execution": {
     "iopub.execute_input": "2023-06-07T14:44:59.324263Z",
     "iopub.status.busy": "2023-06-07T14:44:59.323425Z",
     "iopub.status.idle": "2023-06-07T14:44:59.329317Z",
     "shell.execute_reply": "2023-06-07T14:44:59.328450Z"
    },
    "papermill": {
     "duration": 0.011774,
     "end_time": "2023-06-07T14:44:59.331405",
     "exception": false,
     "start_time": "2023-06-07T14:44:59.319631",
     "status": "completed"
    },
    "tags": []
   },
   "outputs": [],
   "source": [
    "with open('combined.json', 'w') as d:\n",
    "        json.dump(combined_json, d, indent=4)"
   ]
  },
  {
   "cell_type": "code",
   "execution_count": 5,
   "id": "cc2e42f2",
   "metadata": {
    "execution": {
     "iopub.execute_input": "2023-06-07T14:44:59.338997Z",
     "iopub.status.busy": "2023-06-07T14:44:59.338653Z",
     "iopub.status.idle": "2023-06-07T14:44:59.351798Z",
     "shell.execute_reply": "2023-06-07T14:44:59.350765Z"
    },
    "papermill": {
     "duration": 0.019586,
     "end_time": "2023-06-07T14:44:59.354171",
     "exception": false,
     "start_time": "2023-06-07T14:44:59.334585",
     "status": "completed"
    },
    "tags": []
   },
   "outputs": [
    {
     "data": {
      "text/plain": [
       "[{'description': '',\n",
       "  'tags': [],\n",
       "  'size': {'height': 720, 'width': 1280},\n",
       "  'objects': []},\n",
       " {'description': '',\n",
       "  'tags': [],\n",
       "  'size': {'height': 720, 'width': 1280},\n",
       "  'objects': [{'id': 28636340,\n",
       "    'classId': 17389,\n",
       "    'description': '',\n",
       "    'geometryType': 'rectangle',\n",
       "    'labelerLogin': 'muyeed',\n",
       "    'createdAt': '2021-11-24T04:04:09.702Z',\n",
       "    'updatedAt': '2021-11-24T04:04:09.702Z',\n",
       "    'tags': [{'id': 29607253,\n",
       "      'tagId': 32296,\n",
       "      'name': 'Make',\n",
       "      'value': 'Mercedes-Benz',\n",
       "      'labelerLogin': 'muyeed',\n",
       "      'createdAt': '2021-11-24T04:04:09.702Z',\n",
       "      'updatedAt': '2021-11-24T04:04:09.702Z'},\n",
       "     {'id': 29607252,\n",
       "      'tagId': 32292,\n",
       "      'name': 'Type',\n",
       "      'value': 'SUV',\n",
       "      'labelerLogin': 'muyeed',\n",
       "      'createdAt': '2021-11-24T04:04:09.702Z',\n",
       "      'updatedAt': '2021-11-24T04:04:09.702Z'},\n",
       "     {'id': 29607251,\n",
       "      'tagId': 32295,\n",
       "      'name': 'Pose',\n",
       "      'value': 'Rear',\n",
       "      'labelerLogin': 'muyeed',\n",
       "      'createdAt': '2021-11-24T04:04:09.702Z',\n",
       "      'updatedAt': '2021-11-24T04:04:09.702Z'},\n",
       "     {'id': 29607250,\n",
       "      'tagId': 32297,\n",
       "      'name': 'Model',\n",
       "      'value': 'UN',\n",
       "      'labelerLogin': 'muyeed',\n",
       "      'createdAt': '2021-11-24T04:04:09.702Z',\n",
       "      'updatedAt': '2021-11-24T04:04:09.702Z'},\n",
       "     {'id': 29607249,\n",
       "      'tagId': 32291,\n",
       "      'name': 'Color',\n",
       "      'value': 'Silver',\n",
       "      'labelerLogin': 'muyeed',\n",
       "      'createdAt': '2021-11-24T04:04:09.702Z',\n",
       "      'updatedAt': '2021-11-24T04:04:09.702Z'}],\n",
       "    'classTitle': 'car',\n",
       "    'points': {'exterior': [[770, 0], [882, 306]], 'interior': []}}]},\n",
       " {'description': '',\n",
       "  'tags': [],\n",
       "  'size': {'height': 720, 'width': 1280},\n",
       "  'objects': [{'id': 28602834,\n",
       "    'classId': 17389,\n",
       "    'description': '',\n",
       "    'geometryType': 'rectangle',\n",
       "    'labelerLogin': 'muyeed',\n",
       "    'createdAt': '2021-11-24T04:04:09.702Z',\n",
       "    'updatedAt': '2021-11-24T04:04:09.702Z',\n",
       "    'tags': [{'id': 29485103,\n",
       "      'tagId': 32292,\n",
       "      'name': 'Type',\n",
       "      'value': 'SUV',\n",
       "      'labelerLogin': 'muyeed',\n",
       "      'createdAt': '2021-11-24T04:04:09.702Z',\n",
       "      'updatedAt': '2021-11-24T04:04:09.702Z'},\n",
       "     {'id': 29485102,\n",
       "      'tagId': 32295,\n",
       "      'name': 'Pose',\n",
       "      'value': 'Rear',\n",
       "      'labelerLogin': 'muyeed',\n",
       "      'createdAt': '2021-11-24T04:04:09.702Z',\n",
       "      'updatedAt': '2021-11-24T04:04:09.702Z'},\n",
       "     {'id': 29485101,\n",
       "      'tagId': 32297,\n",
       "      'name': 'Model',\n",
       "      'value': 'UN',\n",
       "      'labelerLogin': 'muyeed',\n",
       "      'createdAt': '2021-11-24T04:04:09.702Z',\n",
       "      'updatedAt': '2021-11-24T04:04:09.702Z'},\n",
       "     {'id': 29485100,\n",
       "      'tagId': 32296,\n",
       "      'name': 'Make',\n",
       "      'value': 'Lexus',\n",
       "      'labelerLogin': 'muyeed',\n",
       "      'createdAt': '2021-11-24T04:04:09.702Z',\n",
       "      'updatedAt': '2021-11-24T04:04:09.702Z'},\n",
       "     {'id': 29485099,\n",
       "      'tagId': 32291,\n",
       "      'name': 'Color',\n",
       "      'value': 'Silver',\n",
       "      'labelerLogin': 'muyeed',\n",
       "      'createdAt': '2021-11-24T04:04:09.702Z',\n",
       "      'updatedAt': '2021-11-24T04:04:09.702Z'}],\n",
       "    'classTitle': 'car',\n",
       "    'points': {'exterior': [[396, 3], [773, 314]], 'interior': []}},\n",
       "   {'id': 28602833,\n",
       "    'classId': 17388,\n",
       "    'description': '',\n",
       "    'geometryType': 'rectangle',\n",
       "    'labelerLogin': 'muyeed',\n",
       "    'createdAt': '2021-11-24T04:04:09.702Z',\n",
       "    'updatedAt': '2021-11-24T04:04:09.702Z',\n",
       "    'tags': [{'id': 29485098,\n",
       "      'tagId': 32293,\n",
       "      'name': 'Difficulty Score',\n",
       "      'value': '0',\n",
       "      'labelerLogin': 'muyeed',\n",
       "      'createdAt': '2021-11-24T04:04:09.702Z',\n",
       "      'updatedAt': '2021-11-24T04:04:09.702Z'},\n",
       "     {'id': 29485097,\n",
       "      'tagId': 32290,\n",
       "      'name': 'Value',\n",
       "      'value': 'CA, 7LVS119',\n",
       "      'labelerLogin': 'muyeed',\n",
       "      'createdAt': '2021-11-24T04:04:09.702Z',\n",
       "      'updatedAt': '2021-11-24T04:04:09.702Z'}],\n",
       "    'classTitle': 'number',\n",
       "    'points': {'exterior': [[535, 158], [622, 213]], 'interior': []}}]}]"
      ]
     },
     "execution_count": 5,
     "metadata": {},
     "output_type": "execute_result"
    }
   ],
   "source": [
    "combined_json"
   ]
  }
 ],
 "metadata": {
  "kernelspec": {
   "display_name": "Python 3",
   "language": "python",
   "name": "python3"
  },
  "language_info": {
   "codemirror_mode": {
    "name": "ipython",
    "version": 3
   },
   "file_extension": ".py",
   "mimetype": "text/x-python",
   "name": "python",
   "nbconvert_exporter": "python",
   "pygments_lexer": "ipython3",
   "version": "3.10.10"
  },
  "papermill": {
   "default_parameters": {},
   "duration": 14.831401,
   "end_time": "2023-06-07T14:45:02.039567",
   "environment_variables": {},
   "exception": null,
   "input_path": "__notebook__.ipynb",
   "output_path": "__notebook__.ipynb",
   "parameters": {},
   "start_time": "2023-06-07T14:44:47.208166",
   "version": "2.4.0"
  }
 },
 "nbformat": 4,
 "nbformat_minor": 5
}
