{
 "cells": [
  {
   "cell_type": "code",
   "execution_count": 1,
   "id": "6d0d136e",
   "metadata": {
    "_cell_guid": "aa5e1a14-eacf-40aa-b653-5597a964eb3b",
    "_uuid": "92c527f0-27b7-4681-b20f-807ada3058c0",
    "collapsed": false,
    "execution": {
     "iopub.execute_input": "2023-06-07T15:01:22.150148Z",
     "iopub.status.busy": "2023-06-07T15:01:22.149719Z",
     "iopub.status.idle": "2023-06-07T15:01:22.170665Z",
     "shell.execute_reply": "2023-06-07T15:01:22.169487Z"
    },
    "jupyter": {
     "outputs_hidden": false
    },
    "papermill": {
     "duration": 0.028865,
     "end_time": "2023-06-07T15:01:22.173369",
     "exception": false,
     "start_time": "2023-06-07T15:01:22.144504",
     "status": "completed"
    },
    "tags": []
   },
   "outputs": [
    {
     "data": {
      "text/plain": [
       "['/kaggle/input/test-jsons/pos_10492.png.json',\n",
       " '/kaggle/input/test-jsons/pos_10010.png.json',\n",
       " '/kaggle/input/test-jsons/pos_0.png.json']"
      ]
     },
     "execution_count": 1,
     "metadata": {},
     "output_type": "execute_result"
    }
   ],
   "source": [
    "#importing libraries\n",
    "import numpy as np \n",
    "import pandas as pd\n",
    "import os\n",
    "import json\n",
    "\n",
    "#defining a list to store file paths\n",
    "paths = []\n",
    "\n",
    "for dirname, _, filenames in os.walk('/kaggle/input'):\n",
    "    for filename in filenames:\n",
    "        paths.append(os.path.join(dirname, filename))\n",
    "\n",
    "paths"
   ]
  },
  {
   "cell_type": "code",
   "execution_count": 2,
   "id": "2fe88c0b",
   "metadata": {
    "execution": {
     "iopub.execute_input": "2023-06-07T15:01:22.181702Z",
     "iopub.status.busy": "2023-06-07T15:01:22.181302Z",
     "iopub.status.idle": "2023-06-07T15:01:22.193193Z",
     "shell.execute_reply": "2023-06-07T15:01:22.192103Z"
    },
    "papermill": {
     "duration": 0.018848,
     "end_time": "2023-06-07T15:01:22.195800",
     "exception": false,
     "start_time": "2023-06-07T15:01:22.176952",
     "status": "completed"
    },
    "tags": []
   },
   "outputs": [],
   "source": [
    "#defining a list to store the combined json\n",
    "combined_json=[]\n",
    "\n",
    "#reading and merging the jsons\n",
    "for x in paths:\n",
    "    with open(x, 'r') as j:\n",
    "        combined_json.append(json.load(j))"
   ]
  },
  {
   "cell_type": "code",
   "execution_count": 3,
   "id": "b77dae16",
   "metadata": {
    "execution": {
     "iopub.execute_input": "2023-06-07T15:01:22.204148Z",
     "iopub.status.busy": "2023-06-07T15:01:22.203478Z",
     "iopub.status.idle": "2023-06-07T15:01:22.209606Z",
     "shell.execute_reply": "2023-06-07T15:01:22.208349Z"
    },
    "papermill": {
     "duration": 0.013345,
     "end_time": "2023-06-07T15:01:22.212315",
     "exception": false,
     "start_time": "2023-06-07T15:01:22.198970",
     "status": "completed"
    },
    "tags": []
   },
   "outputs": [],
   "source": [
    "#changing the class names into vehicle>car, license plate >number\n",
    "for x in combined_json:\n",
    "    for y in x['objects']:\n",
    "        y['classTitle'] = y['classTitle'].replace(\"Vehicle\",\"car\")\n",
    "        y['classTitle'] = y['classTitle'].replace(\"License Plate\",\"number\")\n",
    "        \n",
    "    "
   ]
  },
  {
   "cell_type": "code",
   "execution_count": 4,
   "id": "30fc5264",
   "metadata": {
    "execution": {
     "iopub.execute_input": "2023-06-07T15:01:22.220498Z",
     "iopub.status.busy": "2023-06-07T15:01:22.220118Z",
     "iopub.status.idle": "2023-06-07T15:01:22.234053Z",
     "shell.execute_reply": "2023-06-07T15:01:22.232909Z"
    },
    "papermill": {
     "duration": 0.020934,
     "end_time": "2023-06-07T15:01:22.236482",
     "exception": false,
     "start_time": "2023-06-07T15:01:22.215548",
     "status": "completed"
    },
    "tags": []
   },
   "outputs": [
    {
     "data": {
      "text/plain": [
       "[{'description': '',\n",
       "  'tags': [],\n",
       "  'size': {'height': 720, 'width': 1280},\n",
       "  'objects': []},\n",
       " {'description': '',\n",
       "  'tags': [],\n",
       "  'size': {'height': 720, 'width': 1280},\n",
       "  'objects': [{'id': 28636340,\n",
       "    'classId': 17389,\n",
       "    'description': '',\n",
       "    'geometryType': 'rectangle',\n",
       "    'labelerLogin': 'muyeed',\n",
       "    'createdAt': '2021-11-24T04:04:09.702Z',\n",
       "    'updatedAt': '2021-11-24T04:04:09.702Z',\n",
       "    'tags': [{'id': 29607253,\n",
       "      'tagId': 32296,\n",
       "      'name': 'Make',\n",
       "      'value': 'Mercedes-Benz',\n",
       "      'labelerLogin': 'muyeed',\n",
       "      'createdAt': '2021-11-24T04:04:09.702Z',\n",
       "      'updatedAt': '2021-11-24T04:04:09.702Z'},\n",
       "     {'id': 29607252,\n",
       "      'tagId': 32292,\n",
       "      'name': 'Type',\n",
       "      'value': 'SUV',\n",
       "      'labelerLogin': 'muyeed',\n",
       "      'createdAt': '2021-11-24T04:04:09.702Z',\n",
       "      'updatedAt': '2021-11-24T04:04:09.702Z'},\n",
       "     {'id': 29607251,\n",
       "      'tagId': 32295,\n",
       "      'name': 'Pose',\n",
       "      'value': 'Rear',\n",
       "      'labelerLogin': 'muyeed',\n",
       "      'createdAt': '2021-11-24T04:04:09.702Z',\n",
       "      'updatedAt': '2021-11-24T04:04:09.702Z'},\n",
       "     {'id': 29607250,\n",
       "      'tagId': 32297,\n",
       "      'name': 'Model',\n",
       "      'value': 'UN',\n",
       "      'labelerLogin': 'muyeed',\n",
       "      'createdAt': '2021-11-24T04:04:09.702Z',\n",
       "      'updatedAt': '2021-11-24T04:04:09.702Z'},\n",
       "     {'id': 29607249,\n",
       "      'tagId': 32291,\n",
       "      'name': 'Color',\n",
       "      'value': 'Silver',\n",
       "      'labelerLogin': 'muyeed',\n",
       "      'createdAt': '2021-11-24T04:04:09.702Z',\n",
       "      'updatedAt': '2021-11-24T04:04:09.702Z'}],\n",
       "    'classTitle': 'car',\n",
       "    'points': {'exterior': [[770, 0], [882, 306]], 'interior': []}}]},\n",
       " {'description': '',\n",
       "  'tags': [],\n",
       "  'size': {'height': 720, 'width': 1280},\n",
       "  'objects': [{'id': 28602834,\n",
       "    'classId': 17389,\n",
       "    'description': '',\n",
       "    'geometryType': 'rectangle',\n",
       "    'labelerLogin': 'muyeed',\n",
       "    'createdAt': '2021-11-24T04:04:09.702Z',\n",
       "    'updatedAt': '2021-11-24T04:04:09.702Z',\n",
       "    'tags': [{'id': 29485103,\n",
       "      'tagId': 32292,\n",
       "      'name': 'Type',\n",
       "      'value': 'SUV',\n",
       "      'labelerLogin': 'muyeed',\n",
       "      'createdAt': '2021-11-24T04:04:09.702Z',\n",
       "      'updatedAt': '2021-11-24T04:04:09.702Z'},\n",
       "     {'id': 29485102,\n",
       "      'tagId': 32295,\n",
       "      'name': 'Pose',\n",
       "      'value': 'Rear',\n",
       "      'labelerLogin': 'muyeed',\n",
       "      'createdAt': '2021-11-24T04:04:09.702Z',\n",
       "      'updatedAt': '2021-11-24T04:04:09.702Z'},\n",
       "     {'id': 29485101,\n",
       "      'tagId': 32297,\n",
       "      'name': 'Model',\n",
       "      'value': 'UN',\n",
       "      'labelerLogin': 'muyeed',\n",
       "      'createdAt': '2021-11-24T04:04:09.702Z',\n",
       "      'updatedAt': '2021-11-24T04:04:09.702Z'},\n",
       "     {'id': 29485100,\n",
       "      'tagId': 32296,\n",
       "      'name': 'Make',\n",
       "      'value': 'Lexus',\n",
       "      'labelerLogin': 'muyeed',\n",
       "      'createdAt': '2021-11-24T04:04:09.702Z',\n",
       "      'updatedAt': '2021-11-24T04:04:09.702Z'},\n",
       "     {'id': 29485099,\n",
       "      'tagId': 32291,\n",
       "      'name': 'Color',\n",
       "      'value': 'Silver',\n",
       "      'labelerLogin': 'muyeed',\n",
       "      'createdAt': '2021-11-24T04:04:09.702Z',\n",
       "      'updatedAt': '2021-11-24T04:04:09.702Z'}],\n",
       "    'classTitle': 'car',\n",
       "    'points': {'exterior': [[396, 3], [773, 314]], 'interior': []}},\n",
       "   {'id': 28602833,\n",
       "    'classId': 17388,\n",
       "    'description': '',\n",
       "    'geometryType': 'rectangle',\n",
       "    'labelerLogin': 'muyeed',\n",
       "    'createdAt': '2021-11-24T04:04:09.702Z',\n",
       "    'updatedAt': '2021-11-24T04:04:09.702Z',\n",
       "    'tags': [{'id': 29485098,\n",
       "      'tagId': 32293,\n",
       "      'name': 'Difficulty Score',\n",
       "      'value': '0',\n",
       "      'labelerLogin': 'muyeed',\n",
       "      'createdAt': '2021-11-24T04:04:09.702Z',\n",
       "      'updatedAt': '2021-11-24T04:04:09.702Z'},\n",
       "     {'id': 29485097,\n",
       "      'tagId': 32290,\n",
       "      'name': 'Value',\n",
       "      'value': 'CA, 7LVS119',\n",
       "      'labelerLogin': 'muyeed',\n",
       "      'createdAt': '2021-11-24T04:04:09.702Z',\n",
       "      'updatedAt': '2021-11-24T04:04:09.702Z'}],\n",
       "    'classTitle': 'number',\n",
       "    'points': {'exterior': [[535, 158], [622, 213]], 'interior': []}}]}]"
      ]
     },
     "execution_count": 4,
     "metadata": {},
     "output_type": "execute_result"
    }
   ],
   "source": [
    "#checking the json\n",
    "combined_json"
   ]
  },
  {
   "cell_type": "code",
   "execution_count": 5,
   "id": "118d04f5",
   "metadata": {
    "execution": {
     "iopub.execute_input": "2023-06-07T15:01:22.245632Z",
     "iopub.status.busy": "2023-06-07T15:01:22.244907Z",
     "iopub.status.idle": "2023-06-07T15:01:22.250967Z",
     "shell.execute_reply": "2023-06-07T15:01:22.249497Z"
    },
    "papermill": {
     "duration": 0.013674,
     "end_time": "2023-06-07T15:01:22.253690",
     "exception": false,
     "start_time": "2023-06-07T15:01:22.240016",
     "status": "completed"
    },
    "tags": []
   },
   "outputs": [],
   "source": [
    "#saving the json\n",
    "with open('combined.json', 'w') as d:\n",
    "        json.dump(combined_json, d, indent=4)"
   ]
  }
 ],
 "metadata": {
  "kernelspec": {
   "display_name": "Python 3",
   "language": "python",
   "name": "python3"
  },
  "language_info": {
   "codemirror_mode": {
    "name": "ipython",
    "version": 3
   },
   "file_extension": ".py",
   "mimetype": "text/x-python",
   "name": "python",
   "nbconvert_exporter": "python",
   "pygments_lexer": "ipython3",
   "version": "3.10.10"
  },
  "papermill": {
   "default_parameters": {},
   "duration": 14.175183,
   "end_time": "2023-06-07T15:01:23.179461",
   "environment_variables": {},
   "exception": null,
   "input_path": "__notebook__.ipynb",
   "output_path": "__notebook__.ipynb",
   "parameters": {},
   "start_time": "2023-06-07T15:01:09.004278",
   "version": "2.4.0"
  }
 },
 "nbformat": 4,
 "nbformat_minor": 5
}
