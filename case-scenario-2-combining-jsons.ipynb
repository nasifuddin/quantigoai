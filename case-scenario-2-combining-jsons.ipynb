{
 "cells": [
  {
   "cell_type": "code",
   "execution_count": 1,
   "id": "766aacba",
   "metadata": {
    "_cell_guid": "aa5e1a14-eacf-40aa-b653-5597a964eb3b",
    "_uuid": "92c527f0-27b7-4681-b20f-807ada3058c0",
    "collapsed": false,
    "execution": {
     "iopub.execute_input": "2023-06-07T14:29:25.440092Z",
     "iopub.status.busy": "2023-06-07T14:29:25.438928Z",
     "iopub.status.idle": "2023-06-07T14:29:25.461739Z",
     "shell.execute_reply": "2023-06-07T14:29:25.460744Z"
    },
    "jupyter": {
     "outputs_hidden": false
    },
    "papermill": {
     "duration": 0.030269,
     "end_time": "2023-06-07T14:29:25.464437",
     "exception": false,
     "start_time": "2023-06-07T14:29:25.434168",
     "status": "completed"
    },
    "tags": []
   },
   "outputs": [
    {
     "data": {
      "text/plain": [
       "['/kaggle/input/test-jsons/pos_10492.png.json',\n",
       " '/kaggle/input/test-jsons/pos_10010.png.json',\n",
       " '/kaggle/input/test-jsons/pos_0.png.json']"
      ]
     },
     "execution_count": 1,
     "metadata": {},
     "output_type": "execute_result"
    }
   ],
   "source": [
    "import numpy as np # linear algebra\n",
    "import pandas as pd # data processing, CSV file I/O (e.g. pd.read_csv)\n",
    "import os\n",
    "import json\n",
    "\n",
    "paths = []\n",
    "\n",
    "for dirname, _, filenames in os.walk('/kaggle/input'):\n",
    "    for filename in filenames:\n",
    "        paths.append(os.path.join(dirname, filename))\n",
    "\n",
    "paths"
   ]
  },
  {
   "cell_type": "code",
   "execution_count": 2,
   "id": "cce4cb11",
   "metadata": {
    "execution": {
     "iopub.execute_input": "2023-06-07T14:29:25.471604Z",
     "iopub.status.busy": "2023-06-07T14:29:25.471232Z",
     "iopub.status.idle": "2023-06-07T14:29:25.485925Z",
     "shell.execute_reply": "2023-06-07T14:29:25.484862Z"
    },
    "papermill": {
     "duration": 0.021103,
     "end_time": "2023-06-07T14:29:25.488598",
     "exception": false,
     "start_time": "2023-06-07T14:29:25.467495",
     "status": "completed"
    },
    "tags": []
   },
   "outputs": [],
   "source": [
    "combined_json=[]\n",
    "\n",
    "for x in paths:\n",
    "    with open(x, 'r') as j:\n",
    "        combined_json.append(json.load(j))\n",
    "        \n",
    "with open('combined.json', 'w') as d:\n",
    "        json.dump(combined_json, d, indent=4)"
   ]
  },
  {
   "cell_type": "code",
   "execution_count": 3,
   "id": "802c1f6d",
   "metadata": {
    "execution": {
     "iopub.execute_input": "2023-06-07T14:29:25.495886Z",
     "iopub.status.busy": "2023-06-07T14:29:25.495476Z",
     "iopub.status.idle": "2023-06-07T14:29:25.501229Z",
     "shell.execute_reply": "2023-06-07T14:29:25.500119Z"
    },
    "papermill": {
     "duration": 0.012147,
     "end_time": "2023-06-07T14:29:25.503622",
     "exception": false,
     "start_time": "2023-06-07T14:29:25.491475",
     "status": "completed"
    },
    "tags": []
   },
   "outputs": [],
   "source": [
    "for x in combined_json:\n",
    "    for y in x['objects']:\n",
    "        y['classTitle'] = y['classTitle'].replace(\"Vehicle\",\"car\")\n",
    "        y['classTitle'] = y['classTitle'].replace(\"License Plate\",\"number\")\n",
    "        \n",
    "    "
   ]
  },
  {
   "cell_type": "code",
   "execution_count": 4,
   "id": "de0ec0db",
   "metadata": {
    "execution": {
     "iopub.execute_input": "2023-06-07T14:29:25.510609Z",
     "iopub.status.busy": "2023-06-07T14:29:25.510230Z",
     "iopub.status.idle": "2023-06-07T14:29:25.516370Z",
     "shell.execute_reply": "2023-06-07T14:29:25.515272Z"
    },
    "papermill": {
     "duration": 0.012414,
     "end_time": "2023-06-07T14:29:25.518770",
     "exception": false,
     "start_time": "2023-06-07T14:29:25.506356",
     "status": "completed"
    },
    "tags": []
   },
   "outputs": [],
   "source": [
    "with open('combined.json', 'w') as d:\n",
    "        json.dump(combined_json, d, indent=4)"
   ]
  }
 ],
 "metadata": {
  "kernelspec": {
   "display_name": "Python 3",
   "language": "python",
   "name": "python3"
  },
  "language_info": {
   "codemirror_mode": {
    "name": "ipython",
    "version": 3
   },
   "file_extension": ".py",
   "mimetype": "text/x-python",
   "name": "python",
   "nbconvert_exporter": "python",
   "pygments_lexer": "ipython3",
   "version": "3.10.10"
  },
  "papermill": {
   "default_parameters": {},
   "duration": 12.947564,
   "end_time": "2023-06-07T14:29:26.342664",
   "environment_variables": {},
   "exception": null,
   "input_path": "__notebook__.ipynb",
   "output_path": "__notebook__.ipynb",
   "parameters": {},
   "start_time": "2023-06-07T14:29:13.395100",
   "version": "2.4.0"
  }
 },
 "nbformat": 4,
 "nbformat_minor": 5
}
