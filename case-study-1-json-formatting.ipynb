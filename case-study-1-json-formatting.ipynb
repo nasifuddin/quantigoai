{
 "cells": [
  {
   "cell_type": "code",
   "execution_count": 1,
   "id": "70eb77c7",
   "metadata": {
    "_cell_guid": "b1076dfc-b9ad-4769-8c92-a6c4dae69d19",
    "_uuid": "8f2839f25d086af736a60e9eeb907d3b93b6e0e5",
    "execution": {
     "iopub.execute_input": "2023-06-07T12:12:04.020954Z",
     "iopub.status.busy": "2023-06-07T12:12:04.020349Z",
     "iopub.status.idle": "2023-06-07T12:12:04.044608Z",
     "shell.execute_reply": "2023-06-07T12:12:04.043550Z"
    },
    "papermill": {
     "duration": 0.032406,
     "end_time": "2023-06-07T12:12:04.047343",
     "exception": false,
     "start_time": "2023-06-07T12:12:04.014937",
     "status": "completed"
    },
    "tags": []
   },
   "outputs": [
    {
     "data": {
      "text/plain": [
       "{'description': '',\n",
       " 'tags': [],\n",
       " 'size': {'height': 720, 'width': 1280},\n",
       " 'objects': [{'id': 28602834,\n",
       "   'classId': 17389,\n",
       "   'description': '',\n",
       "   'geometryType': 'rectangle',\n",
       "   'labelerLogin': 'muyeed',\n",
       "   'createdAt': '2021-11-24T04:04:09.702Z',\n",
       "   'updatedAt': '2021-11-24T04:04:09.702Z',\n",
       "   'tags': [{'id': 29485103,\n",
       "     'tagId': 32292,\n",
       "     'name': 'Type',\n",
       "     'value': 'SUV',\n",
       "     'labelerLogin': 'muyeed',\n",
       "     'createdAt': '2021-11-24T04:04:09.702Z',\n",
       "     'updatedAt': '2021-11-24T04:04:09.702Z'},\n",
       "    {'id': 29485102,\n",
       "     'tagId': 32295,\n",
       "     'name': 'Pose',\n",
       "     'value': 'Rear',\n",
       "     'labelerLogin': 'muyeed',\n",
       "     'createdAt': '2021-11-24T04:04:09.702Z',\n",
       "     'updatedAt': '2021-11-24T04:04:09.702Z'},\n",
       "    {'id': 29485101,\n",
       "     'tagId': 32297,\n",
       "     'name': 'Model',\n",
       "     'value': 'UN',\n",
       "     'labelerLogin': 'muyeed',\n",
       "     'createdAt': '2021-11-24T04:04:09.702Z',\n",
       "     'updatedAt': '2021-11-24T04:04:09.702Z'},\n",
       "    {'id': 29485100,\n",
       "     'tagId': 32296,\n",
       "     'name': 'Make',\n",
       "     'value': 'Lexus',\n",
       "     'labelerLogin': 'muyeed',\n",
       "     'createdAt': '2021-11-24T04:04:09.702Z',\n",
       "     'updatedAt': '2021-11-24T04:04:09.702Z'},\n",
       "    {'id': 29485099,\n",
       "     'tagId': 32291,\n",
       "     'name': 'Color',\n",
       "     'value': 'Silver',\n",
       "     'labelerLogin': 'muyeed',\n",
       "     'createdAt': '2021-11-24T04:04:09.702Z',\n",
       "     'updatedAt': '2021-11-24T04:04:09.702Z'}],\n",
       "   'classTitle': 'Vehicle',\n",
       "   'points': {'exterior': [[396, 3], [773, 314]], 'interior': []}},\n",
       "  {'id': 28602833,\n",
       "   'classId': 17388,\n",
       "   'description': '',\n",
       "   'geometryType': 'rectangle',\n",
       "   'labelerLogin': 'muyeed',\n",
       "   'createdAt': '2021-11-24T04:04:09.702Z',\n",
       "   'updatedAt': '2021-11-24T04:04:09.702Z',\n",
       "   'tags': [{'id': 29485098,\n",
       "     'tagId': 32293,\n",
       "     'name': 'Difficulty Score',\n",
       "     'value': '0',\n",
       "     'labelerLogin': 'muyeed',\n",
       "     'createdAt': '2021-11-24T04:04:09.702Z',\n",
       "     'updatedAt': '2021-11-24T04:04:09.702Z'},\n",
       "    {'id': 29485097,\n",
       "     'tagId': 32290,\n",
       "     'name': 'Value',\n",
       "     'value': 'CA, 7LVS119',\n",
       "     'labelerLogin': 'muyeed',\n",
       "     'createdAt': '2021-11-24T04:04:09.702Z',\n",
       "     'updatedAt': '2021-11-24T04:04:09.702Z'}],\n",
       "   'classTitle': 'License Plate',\n",
       "   'points': {'exterior': [[535, 158], [622, 213]], 'interior': []}}]}"
      ]
     },
     "execution_count": 1,
     "metadata": {},
     "output_type": "execute_result"
    }
   ],
   "source": [
    "#importing libraries\n",
    "import json\n",
    "import os\n",
    "\n",
    "#creating path\n",
    "path = '/kaggle/input/sample-json/pos_0.png.json'\n",
    "\n",
    "#storing filename\n",
    "filename = path .split('/')[-1]\n",
    "\n",
    "#storing filetype\n",
    "if \"png\" in filename:\n",
    "    image_type = \"image\"\n",
    "\n",
    "#loading the data\n",
    "with open(path) as f:\n",
    "    data = json.load(f)\n",
    "\n",
    "#checking data\n",
    "data"
   ]
  },
  {
   "cell_type": "code",
   "execution_count": 2,
   "id": "4aea7af1",
   "metadata": {
    "execution": {
     "iopub.execute_input": "2023-06-07T12:12:04.055929Z",
     "iopub.status.busy": "2023-06-07T12:12:04.055553Z",
     "iopub.status.idle": "2023-06-07T12:12:04.072563Z",
     "shell.execute_reply": "2023-06-07T12:12:04.071415Z"
    },
    "papermill": {
     "duration": 0.024105,
     "end_time": "2023-06-07T12:12:04.074938",
     "exception": false,
     "start_time": "2023-06-07T12:12:04.050833",
     "status": "completed"
    },
    "tags": []
   },
   "outputs": [
    {
     "data": {
      "text/plain": [
       "{'Type': 'SUV',\n",
       " 'Pose': 'Rear',\n",
       " 'Model': 'UN',\n",
       " 'Make': 'Lexus',\n",
       " 'Color': 'Silver',\n",
       " 'Difficulty Score': '0',\n",
       " 'Value': 'CA, 7LVS119',\n",
       " 'bbox_vehicle': [396, 3, 773, 314],\n",
       " 'presence_v': 1,\n",
       " 'bbox_license': [535, 158, 622, 213],\n",
       " 'presence_l': 1,\n",
       " 'Occlusion': 0}"
      ]
     },
     "execution_count": 2,
     "metadata": {},
     "output_type": "execute_result"
    }
   ],
   "source": [
    "#extracting info from the json\n",
    "\n",
    "#intializing necessary dictionary and lists\n",
    "new_name={}\n",
    "bbox=[]\n",
    "bbox_vehicle=[]\n",
    "bbox_license=[]\n",
    "occlusion=[]\n",
    "\n",
    "#grabbing info from the JSON\n",
    "for obj in data['objects']:\n",
    "    for attr in obj['tags']:\n",
    "        new_name[attr['name']] = attr['value']\n",
    "    for x in (obj['points']['interior']):\n",
    "        occlusion.append(x)\n",
    "    for x in (obj['points']['exterior']):\n",
    "        bbox.append(x)\n",
    "if len(bbox) != 0:\n",
    "    new_name['bbox_vehicle'] = bbox[0] + bbox[1]\n",
    "    \n",
    "    if len(bbox[0] + bbox[1])>0:\n",
    "        new_name['presence_v'] = 1\n",
    "    else :\n",
    "        new_name['presence_v'] = 0\n",
    "    \n",
    "    if len(bbox) > 2:\n",
    "        new_name['bbox_license'] = bbox[2] + bbox[3]\n",
    "        \n",
    "        if len(bbox[2] + bbox[3])>0:\n",
    "            new_name['presence_l'] = 1\n",
    "        else :\n",
    "            new_name['presence_l'] = 0\n",
    "        \n",
    "new_name['Occlusion'] = len(occlusion)\n",
    "\n",
    "#checking extracting info\n",
    "new_name"
   ]
  },
  {
   "cell_type": "code",
   "execution_count": 3,
   "id": "62fd4783",
   "metadata": {
    "execution": {
     "iopub.execute_input": "2023-06-07T12:12:04.084000Z",
     "iopub.status.busy": "2023-06-07T12:12:04.083609Z",
     "iopub.status.idle": "2023-06-07T12:12:04.094260Z",
     "shell.execute_reply": "2023-06-07T12:12:04.092988Z"
    },
    "papermill": {
     "duration": 0.01802,
     "end_time": "2023-06-07T12:12:04.096703",
     "exception": false,
     "start_time": "2023-06-07T12:12:04.078683",
     "status": "completed"
    },
    "tags": []
   },
   "outputs": [
    {
     "data": {
      "text/plain": [
       "{'Type': 'SUV',\n",
       " 'Pose': 'Rear',\n",
       " 'Model': 'UN',\n",
       " 'Make': 'Lexus',\n",
       " 'Color': 'Silver',\n",
       " 'Difficulty Score': '0',\n",
       " 'Value': 'CA, 7LVS119',\n",
       " 'bbox_vehicle': [396, 3, 773, 314],\n",
       " 'presence_v': 1,\n",
       " 'bbox_license': [535, 158, 622, 213],\n",
       " 'presence_l': 1,\n",
       " 'Occlusion': 0}"
      ]
     },
     "execution_count": 3,
     "metadata": {},
     "output_type": "execute_result"
    }
   ],
   "source": [
    "#tackling missing attributes or objects\n",
    "list_attr = [\"Type\",\"Pose\",\"Model\",\"Make\",\"Color\",\"Difficulty Score\",\"Value\",\"Occlusion\"]\n",
    "list_attr_pr = [\"presence_v\",\"presence_l\"]\n",
    "list_attr_bb = [\"bbox_vehicle\",\"bbox_license\"]\n",
    "\n",
    "for x in list_attr:\n",
    "    if x not in new_name:\n",
    "        new_name[x]=None\n",
    "\n",
    "for x in list_attr_pr:\n",
    "    if x not in new_name:\n",
    "        new_name[x]=0\n",
    "\n",
    "for x in list_attr_bb:\n",
    "    if x not in new_name:\n",
    "        new_name[x]=[]\n",
    "    \n",
    "new_name"
   ]
  },
  {
   "cell_type": "code",
   "execution_count": 4,
   "id": "c99595b7",
   "metadata": {
    "execution": {
     "iopub.execute_input": "2023-06-07T12:12:04.105600Z",
     "iopub.status.busy": "2023-06-07T12:12:04.105200Z",
     "iopub.status.idle": "2023-06-07T12:12:04.115251Z",
     "shell.execute_reply": "2023-06-07T12:12:04.114410Z"
    },
    "papermill": {
     "duration": 0.017698,
     "end_time": "2023-06-07T12:12:04.117876",
     "exception": false,
     "start_time": "2023-06-07T12:12:04.100178",
     "status": "completed"
    },
    "tags": []
   },
   "outputs": [
    {
     "name": "stdout",
     "output_type": "stream",
     "text": [
      "[\n",
      "    {\n",
      "        \"dataset_name\": \"pos_0.png.json\",\n",
      "        \"image_link\": \"\",\n",
      "        \"annotation_type\": \"image\",\n",
      "        \"annotation_objects\": {\n",
      "            \"vehicle\": {\n",
      "                \"presence\": 1,\n",
      "                \"bbox\": [\n",
      "                    396,\n",
      "                    3,\n",
      "                    773,\n",
      "                    314\n",
      "                ]\n",
      "            },\n",
      "            \"license_plate\": {\n",
      "                \"presence\": 1,\n",
      "                \"bbox\": [\n",
      "                    535,\n",
      "                    158,\n",
      "                    622,\n",
      "                    213\n",
      "                ]\n",
      "            }\n",
      "        },\n",
      "        \"annotation_attributes\": {\n",
      "            \"vehicle\": {\n",
      "                \"Type\": \"SUV\",\n",
      "                \"Pose\": \"Rear\",\n",
      "                \"Model\": \"UN\",\n",
      "                \"Make\": \"Lexus\",\n",
      "                \"Color\": \"Silver\"\n",
      "            },\n",
      "            \"license_plate\": {\n",
      "                \"Difficulty Score\": \"0\",\n",
      "                \"Value\": \"CA, 7LVS119\",\n",
      "                \"Occlusion\": 0\n",
      "            }\n",
      "        }\n",
      "    }\n",
      "]\n"
     ]
    }
   ],
   "source": [
    "#creating formatted json\n",
    "\n",
    "formatted_json={}\n",
    "\n",
    "\n",
    "formatted_json[\"dataset_name\"] = filename\n",
    "formatted_json[\"image_link\"] = \"\"\n",
    "formatted_json[\"annotation_type\"] = image_type\n",
    "formatted_json[\"annotation_objects\"] = {\"vehicle\":{\"presence\": new_name[\"presence_v\"],\n",
    "                                                  \"bbox\": new_name[\"bbox_vehicle\"]},\n",
    "                                     \"license_plate\":{\n",
    "                                         \"presence\": new_name[\"presence_l\"],\n",
    "                                         \"bbox\": new_name[\"bbox_license\"]}}\n",
    "formatted_json[\"annotation_attributes\"] = {\"vehicle\":{\n",
    "                                                      \"Type\":new_name[\"Type\"],\n",
    "                                                      \"Pose\": new_name[\"Pose\"],\n",
    "                                                      \"Model\": new_name[\"Model\"],\n",
    "                                                      \"Make\": new_name[\"Make\"],\n",
    "                                                      \"Color\":new_name[\"Color\"]\n",
    "                                                       },\n",
    "                                           \"license_plate\":{\n",
    "                                               \"Difficulty Score\":new_name[\"Difficulty Score\"],\n",
    "                                               \"Value\":new_name[\"Value\"],\n",
    "                                               \"Occlusion\":new_name[\"Occlusion\"]\n",
    "                                           }}\n",
    "\n",
    "formatted_json = [formatted_json]\n",
    "\n",
    "s = json.dumps(formatted_json,indent=4)\n",
    "\n",
    "print(s)"
   ]
  },
  {
   "cell_type": "code",
   "execution_count": 5,
   "id": "49481936",
   "metadata": {
    "execution": {
     "iopub.execute_input": "2023-06-07T12:12:04.127448Z",
     "iopub.status.busy": "2023-06-07T12:12:04.126633Z",
     "iopub.status.idle": "2023-06-07T12:12:04.131962Z",
     "shell.execute_reply": "2023-06-07T12:12:04.131108Z"
    },
    "papermill": {
     "duration": 0.012595,
     "end_time": "2023-06-07T12:12:04.134202",
     "exception": false,
     "start_time": "2023-06-07T12:12:04.121607",
     "status": "completed"
    },
    "tags": []
   },
   "outputs": [],
   "source": [
    "with open(\"formatted_\"+ filename,\"w\") as d:\n",
    "    d.write(s)"
   ]
  }
 ],
 "metadata": {
  "kernelspec": {
   "display_name": "Python 3",
   "language": "python",
   "name": "python3"
  },
  "language_info": {
   "codemirror_mode": {
    "name": "ipython",
    "version": 3
   },
   "file_extension": ".py",
   "mimetype": "text/x-python",
   "name": "python",
   "nbconvert_exporter": "python",
   "pygments_lexer": "ipython3",
   "version": "3.10.10"
  },
  "papermill": {
   "default_parameters": {},
   "duration": 14.376754,
   "end_time": "2023-06-07T12:12:05.059972",
   "environment_variables": {},
   "exception": null,
   "input_path": "__notebook__.ipynb",
   "output_path": "__notebook__.ipynb",
   "parameters": {},
   "start_time": "2023-06-07T12:11:50.683218",
   "version": "2.4.0"
  }
 },
 "nbformat": 4,
 "nbformat_minor": 5
}
